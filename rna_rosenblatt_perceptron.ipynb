{
  "nbformat": 4,
  "nbformat_minor": 0,
  "metadata": {
    "colab": {
      "name": "rna_rosenblatt_perceptron.ipynb",
      "provenance": [],
      "collapsed_sections": [],
      "authorship_tag": "ABX9TyMGMsRnHzUGl+wR1jS+e7Hp",
      "include_colab_link": true
    },
    "kernelspec": {
      "name": "python3",
      "display_name": "Python 3"
    },
    "language_info": {
      "name": "python"
    }
  },
  "cells": [
    {
      "cell_type": "markdown",
      "metadata": {
        "id": "view-in-github",
        "colab_type": "text"
      },
      "source": [
        "<a href=\"https://colab.research.google.com/github/migvanderlei/rna-2-1/blob/main/rna_rosenblatt_perceptron.ipynb\" target=\"_parent\"><img src=\"https://colab.research.google.com/assets/colab-badge.svg\" alt=\"Open In Colab\"/></a>"
      ]
    },
    {
      "cell_type": "code",
      "metadata": {
        "id": "q-gRUYtKxBwm"
      },
      "source": [
        "import numpy as np\n",
        "import matplotlib.pyplot as plt"
      ],
      "execution_count": null,
      "outputs": []
    },
    {
      "cell_type": "code",
      "metadata": {
        "id": "ixvRJfbBycVU"
      },
      "source": [
        "class Perceptron():\n",
        "  def __init__(self, entrada, saida, taxa_aprendizado=0.1, range_pesos=(-1, 1), max_epocas=-1, degrau=0.1):\n",
        "        self.vies = np.negative(np.ones(len(entrada))).reshape(-1,1)\n",
        "        self.entrada = np.append(self.vies, entrada, axis = 1)\n",
        "        self.saida = saida\n",
        "        self.n_atributos = len(self.entrada[0])\n",
        "        self.pesos = np.random.uniform(range_pesos[0], range_pesos[1], self.n_atributos)\n",
        "        self.taxa_aprendizado = taxa_aprendizado\n",
        "        self.max_epocas = max_epocas\n",
        "        self.degrau = degrau\n",
        "        self.n_amostras = len(self.entrada)\n",
        "        self.num_total_ajustes = 0\n",
        "        self.n_epocas = 0\n",
        "\n",
        "  def ativacao(self, u):\n",
        "        return 1 if u >= self.degrau else 0\n",
        "\n",
        "  def treinar(self):\n",
        "        print(\"---- Vetor inicial de pesos: \", self.pesos)\n",
        "        self.n_epocas = 1\n",
        "        self.num_total_ajustes = 0\n",
        "\n",
        "        while True:\n",
        "            erro = False\n",
        "            n_ajustes = 0\n",
        "            print(f\"---- Época {self.n_epocas} ----\")\n",
        "            for i in range(self.n_amostras):\n",
        "                u = 0\n",
        "                for j in range(self.n_atributos):\n",
        "                    u+= self.entrada[i][j] * self.pesos[j]\n",
        "                \n",
        "                y = self.ativacao(u)\n",
        "\n",
        "                if y != self.saida[i]:\n",
        "                    self.num_total_ajustes+=1\n",
        "                    print(\"Ajuste: \", self.pesos)\n",
        "                    n_ajustes += 1\n",
        "\n",
        "                    erro_aux = self.saida[i] - y\n",
        "\n",
        "                    for j in range(self.n_atributos):\n",
        "                        self.pesos[j] = self.pesos[j] + self.taxa_aprendizado * erro_aux * self.entrada[i][j]\n",
        "                    erro = True\n",
        "            \n",
        "            print(f\"---- Fim da época {self.n_epocas} com {n_ajustes} ajustes ----\")\n",
        "            \n",
        "            if self.max_epocas == -1:\n",
        "              if not erro:\n",
        "                 break\n",
        "            elif self.n_epocas >= self.max_epocas:\n",
        "              break\n",
        "\n",
        "            self.n_epocas+=1\n",
        "\n",
        "        print(\"---- Número total de ajustes: \", self.num_total_ajustes)\n",
        "        print(\"---- Número de épocas até a convergência: \", self.n_epocas-1)\n"
      ],
      "execution_count": null,
      "outputs": []
    },
    {
      "cell_type": "markdown",
      "metadata": {
        "id": "GmD9UCrgxza9"
      },
      "source": [
        "# Parte I - Problema linearmente separável"
      ]
    },
    {
      "cell_type": "code",
      "metadata": {
        "id": "pqAwk7j93QHF"
      },
      "source": [
        "dataAll = np.fromfile('dataAll.txt').reshape(-1, 3)\n",
        "entrada = dataAll[: , :2]\n",
        "saida = dataAll[:,2:]"
      ],
      "execution_count": null,
      "outputs": []
    },
    {
      "cell_type": "code",
      "metadata": {
        "colab": {
          "base_uri": "https://localhost:8080/"
        },
        "id": "GIcuQnZQx2wH",
        "outputId": "cc29578b-3587-4d43-ae39-66f57fce2bc1"
      },
      "source": [
        "p = Perceptron(entrada, saida, range_pesos=(-0.5, 0.5))\n",
        "p.treinar()"
      ],
      "execution_count": null,
      "outputs": [
        {
          "output_type": "stream",
          "name": "stdout",
          "text": [
            "---- Vetor inicial de pesos:  [ 0.48666951 -0.27922488  0.42127272]\n",
            "---- Época 1 ----\n",
            "Ajuste:  [ 0.48666951 -0.27922488  0.42127272]\n",
            "Ajuste:  [  0.58666951  36.09961512 -23.99295728]\n",
            "Ajuste:  [   0.68666951  -17.55943488 -100.48870728]\n",
            "Ajuste:  [  0.58666951  55.23658512 -64.65914728]\n",
            "Ajuste:  [  0.48666951 137.83528512  15.19668272]\n",
            "Ajuste:  [  0.58666951 143.68104512 -63.09790728]\n",
            "Ajuste:  [   0.68666951  103.67213512 -140.99059728]\n",
            "Ajuste:  [  0.78666951 157.34194512 -91.89832728]\n",
            "Ajuste:  [   0.68666951  104.38188512 -148.76778728]\n",
            "Ajuste:  [  0.78666951 163.94140512 -98.64545728]\n",
            "Ajuste:  [   0.68666951  118.41677512 -164.28138728]\n",
            "Ajuste:  [  0.78666951 209.13263512 -89.56806728]\n",
            "Ajuste:  [   0.68666951  151.35164512 -149.87621728]\n",
            "Ajuste:  [   0.58666951  103.08508512 -198.34593728]\n",
            "Ajuste:  [   0.48666951  173.53243512 -156.22966728]\n",
            "Ajuste:  [   0.38666951  126.69043512 -207.63953728]\n",
            "Ajuste:  [   0.28666951  196.55406512 -143.42059728]\n",
            "Ajuste:  [   0.38666951  140.71833512 -199.59812728]\n",
            "Ajuste:  [   0.28666951  217.70580512 -134.74879728]\n",
            "Ajuste:  [   0.18666951  181.43576512 -177.97683728]\n",
            "Ajuste:  [   0.28666951  163.19662512 -196.31047728]\n",
            "Ajuste:  [ 1.86669506e-01  2.38619065e+02 -1.30255367e+02]\n",
            "Ajuste:  [ 8.66695058e-02  1.74259935e+02 -2.12677807e+02]\n",
            "Ajuste:  [ 1.86669506e-01  2.65568145e+02 -1.29407037e+02]\n",
            "---- Fim da época 1 com 24 ajustes ----\n",
            "---- Época 2 ----\n",
            "Ajuste:  [ 8.66695058e-02  2.18523315e+02 -2.17310977e+02]\n",
            "Ajuste:  [-1.33304942e-02  1.70256755e+02 -2.65780697e+02]\n",
            "Ajuste:  [-1.13330494e-01  2.40120385e+02 -2.01561757e+02]\n",
            "Ajuste:  [-1.33304942e-02  1.84284655e+02 -2.57739287e+02]\n",
            "Ajuste:  [-1.13330494e-01  2.61272125e+02 -1.92889957e+02]\n",
            "Ajuste:  [-2.13330494e-01  2.25002085e+02 -2.36117997e+02]\n",
            "Ajuste:  [  -0.31333049  307.89395512 -153.33650728]\n",
            "Ajuste:  [  -0.41333049  261.74657512 -209.98588728]\n",
            "Ajuste:  [  -0.31333049  235.12095512 -242.50825728]\n",
            "Ajuste:  [  -0.41333049  282.14531512 -195.95408728]\n",
            "Ajuste:  [  -0.51333049  252.26125512 -229.06341728]\n",
            "Ajuste:  [  -0.41333049  234.02211512 -247.39705728]\n",
            "Ajuste:  [  -0.31333049  265.32899512 -216.76873728]\n",
            "Ajuste:  [-2.13330494e-01  1.89775095e+02 -2.94091687e+02]\n",
            "Ajuste:  [-1.13330494e-01  2.58750985e+02 -2.29300757e+02]\n",
            "Ajuste:  [-1.33304942e-02  1.62939435e+02 -3.27182497e+02]\n",
            "Ajuste:  [-1.13330494e-01  2.44113165e+02 -2.75834557e+02]\n",
            "Ajuste:  [-1.33304942e-02  3.43580995e+02 -1.83944997e+02]\n",
            "Ajuste:  [-1.13330494e-01  2.84876075e+02 -2.76282247e+02]\n",
            "Ajuste:  [-1.33304942e-02  2.41017945e+02 -3.20821257e+02]\n",
            "---- Fim da época 2 com 20 ajustes ----\n",
            "---- Época 3 ----\n",
            "Ajuste:  [-1.13330494e-01  3.28261055e+02 -2.53909337e+02]\n",
            "Ajuste:  [-1.33304942e-02  2.96838085e+02 -2.88293087e+02]\n",
            "Ajuste:  [-1.13330494e-01  2.46928265e+02 -3.39553517e+02]\n",
            "Ajuste:  [-2.13330494e-01  2.74391855e+02 -3.18697167e+02]\n",
            "Ajuste:  [-1.13330494e-01  3.23852675e+02 -2.69803117e+02]\n",
            "Ajuste:  [-1.33304942e-02  2.95645215e+02 -3.03387237e+02]\n",
            "Ajuste:  [ 8.66695058e-02  3.82779975e+02 -2.16697407e+02]\n",
            "Ajuste:  [ 1.86669506e-01  3.30864645e+02 -2.72898427e+02]\n",
            "Ajuste:  [ 2.86669506e-01  2.65978615e+02 -3.47514517e+02]\n",
            "Ajuste:  [ 1.86669506e-01  3.55687415e+02 -2.68505797e+02]\n",
            "Ajuste:  [ 8.66695058e-02  2.78224465e+02 -3.66493507e+02]\n",
            "---- Fim da época 3 com 11 ajustes ----\n",
            "---- Época 4 ----\n",
            "---- Fim da época 4 com 0 ajustes ----\n",
            "---- Número total de ajustes:  55\n",
            "---- Número de épocas até a convergência:  3\n"
          ]
        }
      ]
    },
    {
      "cell_type": "code",
      "metadata": {
        "colab": {
          "base_uri": "https://localhost:8080/",
          "height": 265
        },
        "id": "oGJfS4V85OQ4",
        "outputId": "78a68c7a-1810-46c9-c0ab-d0eaea2f2427"
      },
      "source": [
        "x = np.arange(min(dataAll[:,:1]),max(dataAll[:,:1]), 0.1)\n",
        "\n",
        "plt.plot(x, p.pesos[0]/p.pesos[2] - (p.pesos[1]/p.pesos[2] * x), 'k', linewidth=2)\n",
        "\n",
        "for item in dataAll:\n",
        "  if item[2] == 0:\n",
        "    plt.scatter(item[0], item[1], color=\"red\")\n",
        "  else:\n",
        "    plt.scatter(item[0], item[1], color=\"blue\")\n",
        "plt.show()"
      ],
      "execution_count": null,
      "outputs": [
        {
          "output_type": "display_data",
          "data": {
            "image/png": "[encoded data removed]",
            "text/plain": [
              "<Figure size 432x288 with 1 Axes>"
            ]
          },
          "metadata": {
            "needs_background": "light"
          }
        }
      ]
    }
  ]
}